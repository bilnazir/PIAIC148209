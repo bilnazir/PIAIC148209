{
 "cells": [
  {
   "cell_type": "code",
   "execution_count": 27,
   "metadata": {
    "scrolled": true
   },
   "outputs": [
    {
     "name": "stdout",
     "output_type": "stream",
     "text": [
      "int32\n",
      "1.13.1\n",
      "blas_mkl_info:\n",
      "    libraries = ['mkl_core_dll', 'mkl_intel_lp64_dll', 'mkl_intel_thread_dll']\n",
      "    library_dirs = ['C:/Program Files/Anaconda3\\\\Library\\\\lib']\n",
      "    define_macros = [('SCIPY_MKL_H', None), ('HAVE_CBLAS', None)]\n",
      "    include_dirs = ['C:/Program Files/Anaconda3\\\\Library\\\\include']\n",
      "blas_opt_info:\n",
      "    libraries = ['mkl_core_dll', 'mkl_intel_lp64_dll', 'mkl_intel_thread_dll']\n",
      "    library_dirs = ['C:/Program Files/Anaconda3\\\\Library\\\\lib']\n",
      "    define_macros = [('SCIPY_MKL_H', None), ('HAVE_CBLAS', None)]\n",
      "    include_dirs = ['C:/Program Files/Anaconda3\\\\Library\\\\include']\n",
      "lapack_mkl_info:\n",
      "    libraries = ['mkl_core_dll', 'mkl_intel_lp64_dll', 'mkl_intel_thread_dll']\n",
      "    library_dirs = ['C:/Program Files/Anaconda3\\\\Library\\\\lib']\n",
      "    define_macros = [('SCIPY_MKL_H', None), ('HAVE_CBLAS', None)]\n",
      "    include_dirs = ['C:/Program Files/Anaconda3\\\\Library\\\\include']\n",
      "lapack_opt_info:\n",
      "    libraries = ['mkl_core_dll', 'mkl_intel_lp64_dll', 'mkl_intel_thread_dll']\n",
      "    library_dirs = ['C:/Program Files/Anaconda3\\\\Library\\\\lib']\n",
      "    define_macros = [('SCIPY_MKL_H', None), ('HAVE_CBLAS', None)]\n",
      "    include_dirs = ['C:/Program Files/Anaconda3\\\\Library\\\\include']\n",
      "None\n",
      "1\n"
     ]
    }
   ],
   "source": [
    "# Import the numpy package under the name np\n",
    "import numpy as np\n",
    "\n",
    "# Create a null vector of size 10\n",
    "a = np.zeros(10)\n",
    "\n",
    "# Create a vector with values ranging from 10 to 49\n",
    "b = np.arange(10,49)\n",
    "\n",
    "# Find the shape of previous array in question 3\n",
    "b.shape\n",
    "\n",
    "# Print the type of the previous array in question 3\n",
    "print(b.dtype)\n",
    "\n",
    "# Print the numpy version and the configuration\n",
    "print(np.__version__)\n",
    "print(np.show_config())\n",
    "\n",
    "# Print the dimension of the array in question 3\n",
    "print(b.ndim)\n",
    "\n",
    "# Create a boolean array with all the True values\n",
    "c = np.full((2,2),True)\n"
   ]
  },
  {
   "cell_type": "markdown",
   "metadata": {},
   "source": [
    "# Creating Arrays"
   ]
  },
  {
   "cell_type": "code",
   "execution_count": 42,
   "metadata": {},
   "outputs": [
    {
     "name": "stdout",
     "output_type": "stream",
     "text": [
      "Diaognal Matrix:  [[ 1.  0.  0.  0.  0.]\n",
      " [ 0.  1.  0.  0.  0.]\n",
      " [ 0.  0.  1.  0.  0.]\n",
      " [ 0.  0.  0.  1.  0.]\n",
      " [ 0.  0.  0.  0.  1.]]\n",
      "Matrix with all ones:  [[ 1.  1.  1.  1.]\n",
      " [ 1.  1.  1.  1.]\n",
      " [ 1.  1.  1.  1.]]\n",
      "Matrix with all zeros:  [[ 0.  0.  0.  0.]\n",
      " [ 0.  0.  0.  0.]\n",
      " [ 0.  0.  0.  0.]]\n",
      "Evenly divided values:  [   0.   20.   40.   60.   80.  100.]\n",
      "arange Function with step 3:  [0 3 6 9]\n",
      "Full Function:  [[8 8 8]\n",
      " [8 8 8]]\n",
      "array of random floats between 0–1:  [[  1.23907456e-01   7.85798711e-01   2.59912274e-01   8.54831746e-01\n",
      "    6.65360859e-01]\n",
      " [  5.03236731e-02   6.88061513e-01   6.43508674e-01   4.25730596e-01\n",
      "    4.08306599e-01]\n",
      " [  4.57639182e-01   7.78730054e-01   1.59553515e-01   4.90874859e-01\n",
      "    7.78219900e-01]\n",
      " [  4.30532017e-01   4.77868122e-01   7.34516781e-04   3.76545006e-01\n",
      "    7.11075190e-01]]\n",
      "array of random floats between 0–100:  [[ 62.81052423  38.83028145  15.32326647  42.56084866  50.89669679\n",
      "   46.41555731   8.62755214]\n",
      " [ 23.10501613  17.51248816  82.2893014   47.60258037  11.42844284\n",
      "   81.37279416  39.53854856]\n",
      " [ 55.49686792  37.37969074  83.22532771  25.70813336  36.35741957\n",
      "    6.18394314  94.72133857]\n",
      " [ 72.6431629   11.15084205  29.23749062  73.60797363  53.75915205\n",
      "   49.13330067   2.94592186]\n",
      " [ 66.73819173  50.79733275  74.76188881  68.09279401  40.06232844\n",
      "   62.28191194  59.79225039]\n",
      " [ 51.29232359  47.56785143  98.91712851  80.45964363  54.76548807\n",
      "    5.22077695  11.12902487]]\n",
      "array with random ints between 0–4:  [[0 0 3]\n",
      " [4 1 0]]\n"
     ]
    }
   ],
   "source": [
    "# Create a two dimensional array\n",
    "d = np.array([[3,2,1],[4,8,6]])\n",
    "\n",
    "# Create a three dimensional array\n",
    "e = np.array([[[9,3,5],[6,3,9]],[[7,8,9],[13,11,10]]])\n",
    "\n",
    "# Diaognal Matrix\n",
    "print(\"Diaognal Matrix: \",np.eye(5))\n",
    "\n",
    "# Array with all values 1\n",
    "print(\"Matrix with all ones: \",np.ones((3,4)))\n",
    "\n",
    "# Array with all values 0\n",
    "print(\"Matrix with all zeros: \",np.zeros((3,4)))\n",
    "\n",
    "# Array of 6 evenly divided values from 0 to 100\n",
    "print(\"Evenly divided values: \",np.linspace(0,100,6))\n",
    "\n",
    "# Array of values from 0 to less than 10 with step 3 \n",
    "print(\"arange Function with step 3: \",np.arange(0,10,3))\n",
    "\n",
    "#  2x3 array with all values 8\n",
    "print(\"Full Function: \",np.full((2,3),8))\n",
    "\n",
    "# 4x5 array of random floats between 0–1\n",
    "print(\"array of random floats between 0–1: \",np.random.rand(4,5))\n",
    "\n",
    "# 6x7 array of random floats between 0–100\n",
    "print(\"array of random floats between 0–100: \",np.random.rand(6,7)*100)\n",
    "\n",
    "# 2x3 array with random ints between 0–4\n",
    "print(\"array with random ints between 0–4: \", np.random.randint(5,size=(2,3)))"
   ]
  },
  {
   "cell_type": "markdown",
   "metadata": {},
   "source": [
    "# Inspecting Properties"
   ]
  },
  {
   "cell_type": "code",
   "execution_count": 24,
   "metadata": {},
   "outputs": [
    {
     "name": "stdout",
     "output_type": "stream",
     "text": [
      "Array  [10 11 12 13 14 15 16 17 18 19 20 21 22 23 24 25 26 27 28 29 30 31 32 33 34\n",
      " 35 36 37 38 39 40 41 42 43 44 45 46 47]\n",
      "number of elements in arr  38\n",
      "dimensions of arr  (38,)\n",
      "type of elements in arr  int32\n",
      "Convert arr elements to type dtype  [ 10.  11.  12.  13.  14.  15.  16.  17.  18.  19.  20.  21.  22.  23.  24.\n",
      "  25.  26.  27.  28.  29.  30.  31.  32.  33.  34.  35.  36.  37.  38.  39.\n",
      "  40.  41.  42.  43.  44.  45.  46.  47.]\n",
      "arr to a Python list:  [10, 11, 12, 13, 14, 15, 16, 17, 18, 19, 20, 21, 22, 23, 24, 25, 26, 27, 28, 29, 30, 31, 32, 33, 34, 35, 36, 37, 38, 39, 40, 41, 42, 43, 44, 45, 46, 47]\n",
      " eye(N, M=None, k=0, dtype=<class 'float'>)\n",
      "\n",
      "Return a 2-D array with ones on the diagonal and zeros elsewhere.\n",
      "\n",
      "Parameters\n",
      "----------\n",
      "N : int\n",
      "  Number of rows in the output.\n",
      "M : int, optional\n",
      "  Number of columns in the output. If None, defaults to `N`.\n",
      "k : int, optional\n",
      "  Index of the diagonal: 0 (the default) refers to the main diagonal,\n",
      "  a positive value refers to an upper diagonal, and a negative value\n",
      "  to a lower diagonal.\n",
      "dtype : data-type, optional\n",
      "  Data-type of the returned array.\n",
      "\n",
      "Returns\n",
      "-------\n",
      "I : ndarray of shape (N,M)\n",
      "  An array where all elements are equal to zero, except for the `k`-th\n",
      "  diagonal, whose values are equal to one.\n",
      "\n",
      "See Also\n",
      "--------\n",
      "identity : (almost) equivalent function\n",
      "diag : diagonal 2-D array from a 1-D array specified by the user.\n",
      "\n",
      "Examples\n",
      "--------\n",
      ">>> np.eye(2, dtype=int)\n",
      "array([[1, 0],\n",
      "       [0, 1]])\n",
      ">>> np.eye(3, k=1)\n",
      "array([[ 0.,  1.,  0.],\n",
      "       [ 0.,  0.,  1.],\n",
      "       [ 0.,  0.,  0.]])\n"
     ]
    }
   ],
   "source": [
    "arr = np.arange(10,48)\n",
    "print(\"Array \",arr)\n",
    "\n",
    "# Returns number of elements in arr\n",
    "print(\"number of elements in arr \", arr.size)\n",
    "\n",
    "# Returns dimensions of arr (rows,columns)\n",
    "print(\"dimensions of arr \", arr.shape)\n",
    "\n",
    "# Returns type of elements in arr\n",
    "print(\"type of elements in arr \", arr.dtype)\n",
    "\n",
    "# Convert arr elements to type dtype\n",
    "print(\"Convert arr elements to type dtype \",arr.astype(float))\n",
    "\n",
    "# Convert arr to a Python list\n",
    "print(\"arr to a Python list: \",arr.tolist())\n",
    "\n",
    "# View documentation for np.eye\n",
    "np.info(np.eye)"
   ]
  },
  {
   "cell_type": "markdown",
   "metadata": {},
   "source": [
    "# Copying/sorting/reshaping"
   ]
  },
  {
   "cell_type": "code",
   "execution_count": 54,
   "metadata": {},
   "outputs": [
    {
     "name": "stdout",
     "output_type": "stream",
     "text": [
      "Copies arr to new memory:  [[10 11 12 13 14 15]\n",
      " [16 17 18 19 20 21]\n",
      " [22 23 24 25 26 27]\n",
      " [28 29 30 31 32 33]\n",
      " [34 35 36 37 38 39]]\n",
      "view of arr elements with type dtype:  [[10 11 12 13 14 15]\n",
      " [16 17 18 19 20 21]\n",
      " [22 23 24 25 26 27]\n",
      " [28 29 30 31 32 33]\n",
      " [34 35 36 37 38 39]]\n"
     ]
    }
   ],
   "source": [
    "# Copies arr to new memory\n",
    "print(\"Copies arr to new memory: \",np.copy(arr))\n",
    "\n",
    "# Creates view of arr elements with type dtype\n",
    "print(\"view of arr elements with type dtype: \",arr.view(int))\n",
    "\n",
    "# Sorts array\n",
    "d.sort()\n",
    "\n",
    "# Sorts specific axis of arr\n",
    "e.sort(axis=0)\n",
    "\n",
    "# Flattens 2D array to 1D\n",
    "d.flatten()\n",
    "\n",
    "\n",
    "# Transposes array (rows become columns and vice versa)\n",
    "d.T\n",
    "\n",
    "# Reshapes arr to 3 rows, 4 columns without changing data\n",
    "e.reshape(3,4)\n",
    "\n",
    "# Changes arr shape to 5x6 and fills new values with 0\n",
    "arr.resize((5,6))\n"
   ]
  },
  {
   "cell_type": "markdown",
   "metadata": {},
   "source": [
    "# Adding/removing Elements"
   ]
  },
  {
   "cell_type": "code",
   "execution_count": 57,
   "metadata": {},
   "outputs": [
    {
     "data": {
      "text/plain": [
       "array([[0, 1, 2],\n",
       "       [3, 4, 5],\n",
       "       [6, 7, 8]])"
      ]
     },
     "execution_count": 57,
     "metadata": {},
     "output_type": "execute_result"
    }
   ],
   "source": [
    "#  Appends values to end of arr\n",
    "np.append([[0, 1, 2], [3, 4, 5]],[[6, 7, 8]], axis=0)"
   ]
  },
  {
   "cell_type": "code",
   "execution_count": 58,
   "metadata": {},
   "outputs": [
    {
     "data": {
      "text/plain": [
       "array([0, 0, 4, 1, 1, 2, 2])"
      ]
     },
     "execution_count": 58,
     "metadata": {},
     "output_type": "execute_result"
    }
   ],
   "source": [
    "# Inserts values into arr before index 2\n",
    "x = np.array([[0,0], [1,1], [2,2]])\n",
    "np.insert(x,2,4)\n"
   ]
  },
  {
   "cell_type": "code",
   "execution_count": 59,
   "metadata": {},
   "outputs": [
    {
     "data": {
      "text/plain": [
       "array([[0, 0, 4],\n",
       "       [1, 1, 4],\n",
       "       [2, 2, 4]])"
      ]
     },
     "execution_count": 59,
     "metadata": {},
     "output_type": "execute_result"
    }
   ],
   "source": [
    "np.insert(x,2,4,axis=1)"
   ]
  },
  {
   "cell_type": "code",
   "execution_count": 60,
   "metadata": {},
   "outputs": [
    {
     "data": {
      "text/plain": [
       "array([[0, 1, 2],\n",
       "       [4, 5, 6],\n",
       "       [7, 8, 9]])"
      ]
     },
     "execution_count": 60,
     "metadata": {},
     "output_type": "execute_result"
    }
   ],
   "source": [
    "# Deletes row on index 1 of arr\n",
    "arr = np.array([[0,1,2], [4,5,6], [7,8,9]])\n",
    "arr"
   ]
  },
  {
   "cell_type": "code",
   "execution_count": 61,
   "metadata": {},
   "outputs": [
    {
     "data": {
      "text/plain": [
       "array([[0, 1, 2],\n",
       "       [7, 8, 9]])"
      ]
     },
     "execution_count": 61,
     "metadata": {},
     "output_type": "execute_result"
    }
   ],
   "source": [
    "np.delete(arr, 1, 0)"
   ]
  },
  {
   "cell_type": "code",
   "execution_count": 62,
   "metadata": {},
   "outputs": [
    {
     "data": {
      "text/plain": [
       "array([[0, 1, 2],\n",
       "       [4, 5, 6],\n",
       "       [7, 8, 9]])"
      ]
     },
     "execution_count": 62,
     "metadata": {},
     "output_type": "execute_result"
    }
   ],
   "source": [
    "# Deletes column on index 2 of arr\n",
    "arr = np.array([[0,1,2], [4,5,6], [7,8,9]])\n",
    "arr"
   ]
  },
  {
   "cell_type": "code",
   "execution_count": 63,
   "metadata": {},
   "outputs": [
    {
     "data": {
      "text/plain": [
       "array([[0, 1],\n",
       "       [4, 5],\n",
       "       [7, 8]])"
      ]
     },
     "execution_count": 63,
     "metadata": {},
     "output_type": "execute_result"
    }
   ],
   "source": [
    "np.delete(arr,2,1)"
   ]
  },
  {
   "cell_type": "markdown",
   "metadata": {},
   "source": [
    "# Combining/splitting"
   ]
  },
  {
   "cell_type": "code",
   "execution_count": 65,
   "metadata": {},
   "outputs": [
    {
     "data": {
      "text/plain": [
       "array([[3, 4],\n",
       "       [5, 6],\n",
       "       [7, 8]])"
      ]
     },
     "execution_count": 65,
     "metadata": {},
     "output_type": "execute_result"
    }
   ],
   "source": [
    "# Adds arr2 as rows to the end of arr1\n",
    "arr1 = np.array([[3, 4], [5, 6]])\n",
    "arr2 = np.array([[7, 8]])\n",
    "np.concatenate((arr1,arr2), axis=0)"
   ]
  },
  {
   "cell_type": "code",
   "execution_count": 69,
   "metadata": {},
   "outputs": [
    {
     "data": {
      "text/plain": [
       "array([[3, 4, 7],\n",
       "       [5, 6, 8]])"
      ]
     },
     "execution_count": 69,
     "metadata": {},
     "output_type": "execute_result"
    }
   ],
   "source": [
    "# Adds arr2 as columns to end of arr1\n",
    "\n",
    "np.concatenate((arr1,arr2.T), axis=1)"
   ]
  },
  {
   "cell_type": "code",
   "execution_count": 70,
   "metadata": {},
   "outputs": [
    {
     "data": {
      "text/plain": [
       "[array([[0, 1, 2]]), array([[4, 5, 6]]), array([[7, 8, 9]])]"
      ]
     },
     "execution_count": 70,
     "metadata": {},
     "output_type": "execute_result"
    }
   ],
   "source": [
    "# Splits arr into 3 sub-arrays\n",
    "np.split(arr,3)"
   ]
  },
  {
   "cell_type": "code",
   "execution_count": 73,
   "metadata": {},
   "outputs": [
    {
     "data": {
      "text/plain": [
       "[array([[[7, 3, 5]],\n",
       " \n",
       "        [[9, 8, 9]]]), array([[[ 6,  3,  9]],\n",
       " \n",
       "        [[13, 11, 10]]])]"
      ]
     },
     "execution_count": 73,
     "metadata": {},
     "output_type": "execute_result"
    }
   ],
   "source": [
    "#  Splits arr horizontally on the 5th index\n",
    "np.hsplit(e,2)"
   ]
  },
  {
   "cell_type": "markdown",
   "metadata": {},
   "source": [
    "# Indexing/slicing/subsetting"
   ]
  },
  {
   "cell_type": "code",
   "execution_count": 74,
   "metadata": {},
   "outputs": [
    {
     "data": {
      "text/plain": [
       "array([7, 8, 9])"
      ]
     },
     "execution_count": 74,
     "metadata": {},
     "output_type": "execute_result"
    }
   ],
   "source": [
    "# Returns the element at index 2\n",
    "arr[2]"
   ]
  },
  {
   "cell_type": "code",
   "execution_count": 76,
   "metadata": {},
   "outputs": [
    {
     "data": {
      "text/plain": [
       "8"
      ]
     },
     "execution_count": 76,
     "metadata": {},
     "output_type": "execute_result"
    }
   ],
   "source": [
    "# Returns the 2D array element on index [1][2]\n",
    "d[1,2]"
   ]
  },
  {
   "cell_type": "code",
   "execution_count": 80,
   "metadata": {},
   "outputs": [],
   "source": [
    "# Assigns array element on index 1 the value 4\n",
    "arr[1]=60"
   ]
  },
  {
   "cell_type": "code",
   "execution_count": 86,
   "metadata": {},
   "outputs": [],
   "source": [
    "# Assigns array element on index [1][3] the value 10\n",
    "d[1,2]=10"
   ]
  },
  {
   "cell_type": "code",
   "execution_count": 87,
   "metadata": {},
   "outputs": [
    {
     "data": {
      "text/plain": [
       "array([[ 1,  2,  3],\n",
       "       [ 4,  6, 10]])"
      ]
     },
     "execution_count": 87,
     "metadata": {},
     "output_type": "execute_result"
    }
   ],
   "source": [
    "# Returns the elements at indices 0,1,2 (On a 2D array: returns rows 0,1,2)\n",
    "d[0:3]"
   ]
  },
  {
   "cell_type": "code",
   "execution_count": 89,
   "metadata": {},
   "outputs": [
    {
     "data": {
      "text/plain": [
       "array([3])"
      ]
     },
     "execution_count": 89,
     "metadata": {},
     "output_type": "execute_result"
    }
   ],
   "source": [
    "# Returns the elements on rows\n",
    "d[0:1,2]"
   ]
  },
  {
   "cell_type": "code",
   "execution_count": 90,
   "metadata": {},
   "outputs": [
    {
     "data": {
      "text/plain": [
       "array([[ 0,  1,  2],\n",
       "       [60, 60, 60]])"
      ]
     },
     "execution_count": 90,
     "metadata": {},
     "output_type": "execute_result"
    }
   ],
   "source": [
    "# Returns the elements at indices 0,1 (On a 2D array: returns rows 0,1)\n",
    "arr[:2]"
   ]
  },
  {
   "cell_type": "code",
   "execution_count": 91,
   "metadata": {},
   "outputs": [
    {
     "data": {
      "text/plain": [
       "array([ 1, 60,  8])"
      ]
     },
     "execution_count": 91,
     "metadata": {},
     "output_type": "execute_result"
    }
   ],
   "source": [
    "# Returns the elements at index 1 on all rows\n",
    "arr[:,1]"
   ]
  },
  {
   "cell_type": "code",
   "execution_count": 92,
   "metadata": {},
   "outputs": [
    {
     "data": {
      "text/plain": [
       "array([[ True,  True,  True],\n",
       "       [False, False, False],\n",
       "       [False, False, False]], dtype=bool)"
      ]
     },
     "execution_count": 92,
     "metadata": {},
     "output_type": "execute_result"
    }
   ],
   "source": [
    "# Returns an array with boolean values\n",
    "arr<5"
   ]
  },
  {
   "cell_type": "code",
   "execution_count": 93,
   "metadata": {},
   "outputs": [
    {
     "data": {
      "text/plain": [
       "array([[False, False],\n",
       "       [False, False]], dtype=bool)"
      ]
     },
     "execution_count": 93,
     "metadata": {},
     "output_type": "execute_result"
    }
   ],
   "source": [
    "# Returns an array with boolean values\n",
    "(arr1<3) & (arr2>5)"
   ]
  },
  {
   "cell_type": "code",
   "execution_count": 94,
   "metadata": {},
   "outputs": [
    {
     "data": {
      "text/plain": [
       "array([[ -1,  -2,  -3],\n",
       "       [-61, -61, -61],\n",
       "       [ -8,  -9, -10]], dtype=int32)"
      ]
     },
     "execution_count": 94,
     "metadata": {},
     "output_type": "execute_result"
    }
   ],
   "source": [
    "#  Inverts a boolean array\n",
    "~arr"
   ]
  },
  {
   "cell_type": "code",
   "execution_count": 95,
   "metadata": {},
   "outputs": [
    {
     "data": {
      "text/plain": [
       "array([0, 1, 2])"
      ]
     },
     "execution_count": 95,
     "metadata": {},
     "output_type": "execute_result"
    }
   ],
   "source": [
    "# Returns array elements smaller than 5\n",
    "arr[arr<5]"
   ]
  },
  {
   "cell_type": "markdown",
   "metadata": {},
   "source": [
    "# Statistics "
   ]
  },
  {
   "cell_type": "code",
   "execution_count": 96,
   "metadata": {},
   "outputs": [
    {
     "data": {
      "text/plain": [
       "array([ 22.33333333,  23.        ,  23.66666667])"
      ]
     },
     "execution_count": 96,
     "metadata": {},
     "output_type": "execute_result"
    }
   ],
   "source": [
    "# Returns mean along specific axis\n",
    "np.mean(arr,axis=0)"
   ]
  },
  {
   "cell_type": "code",
   "execution_count": 97,
   "metadata": {},
   "outputs": [
    {
     "data": {
      "text/plain": [
       "207"
      ]
     },
     "execution_count": 97,
     "metadata": {},
     "output_type": "execute_result"
    }
   ],
   "source": [
    "# Returns sum of arr\n",
    "arr.sum()"
   ]
  },
  {
   "cell_type": "code",
   "execution_count": 98,
   "metadata": {},
   "outputs": [
    {
     "data": {
      "text/plain": [
       "0"
      ]
     },
     "execution_count": 98,
     "metadata": {},
     "output_type": "execute_result"
    }
   ],
   "source": [
    "# Returns minimum value of arr\n",
    "arr.min()"
   ]
  },
  {
   "cell_type": "code",
   "execution_count": 99,
   "metadata": {},
   "outputs": [
    {
     "data": {
      "text/plain": [
       "array([60, 60, 60])"
      ]
     },
     "execution_count": 99,
     "metadata": {},
     "output_type": "execute_result"
    }
   ],
   "source": [
    "# Returns maximum value of specific axis\n",
    "arr.max(axis=0)"
   ]
  },
  {
   "cell_type": "code",
   "execution_count": 100,
   "metadata": {},
   "outputs": [
    {
     "data": {
      "text/plain": [
       "693.11111111111109"
      ]
     },
     "execution_count": 100,
     "metadata": {},
     "output_type": "execute_result"
    }
   ],
   "source": [
    "# Returns the variance of array\n",
    "np.var(arr)"
   ]
  },
  {
   "cell_type": "code",
   "execution_count": 102,
   "metadata": {},
   "outputs": [
    {
     "data": {
      "text/plain": [
       "array([ 0.81649658,  0.        ,  0.81649658])"
      ]
     },
     "execution_count": 102,
     "metadata": {},
     "output_type": "execute_result"
    }
   ],
   "source": [
    "#  Returns the standard deviation of specific axis\n",
    "np.std(arr,axis=1)"
   ]
  },
  {
   "cell_type": "markdown",
   "metadata": {},
   "source": [
    "# Vector Math"
   ]
  },
  {
   "cell_type": "code",
   "execution_count": 106,
   "metadata": {},
   "outputs": [
    {
     "data": {
      "text/plain": [
       "array([[10, 12],\n",
       "       [12, 14]])"
      ]
     },
     "execution_count": 106,
     "metadata": {},
     "output_type": "execute_result"
    }
   ],
   "source": [
    "# Elementwise add arr2 to arr1\n",
    "np.add(arr1,arr2)"
   ]
  },
  {
   "cell_type": "code",
   "execution_count": 107,
   "metadata": {},
   "outputs": [
    {
     "data": {
      "text/plain": [
       "array([[-4, -4],\n",
       "       [-2, -2]])"
      ]
     },
     "execution_count": 107,
     "metadata": {},
     "output_type": "execute_result"
    }
   ],
   "source": [
    "# Elementwise subtract arr2 from arr1\n",
    "np.subtract(arr1,arr2)"
   ]
  },
  {
   "cell_type": "code",
   "execution_count": 108,
   "metadata": {},
   "outputs": [
    {
     "data": {
      "text/plain": [
       "array([[21, 32],\n",
       "       [35, 48]])"
      ]
     },
     "execution_count": 108,
     "metadata": {},
     "output_type": "execute_result"
    }
   ],
   "source": [
    "# Elementwise multiply arr1 by arr2\n",
    "np.multiply(arr1,arr2)"
   ]
  },
  {
   "cell_type": "code",
   "execution_count": 109,
   "metadata": {},
   "outputs": [
    {
     "data": {
      "text/plain": [
       "array([[ 0.42857143,  0.5       ],\n",
       "       [ 0.71428571,  0.75      ]])"
      ]
     },
     "execution_count": 109,
     "metadata": {},
     "output_type": "execute_result"
    }
   ],
   "source": [
    "#  Elementwise divide arr1 by arr2\n",
    "np.divide(arr1,arr2)"
   ]
  },
  {
   "cell_type": "code",
   "execution_count": 110,
   "metadata": {},
   "outputs": [
    {
     "data": {
      "text/plain": [
       "array([[   2187,   65536],\n",
       "       [  78125, 1679616]], dtype=int32)"
      ]
     },
     "execution_count": 110,
     "metadata": {},
     "output_type": "execute_result"
    }
   ],
   "source": [
    "# Elementwise raise arr1 raised to the power of arr2\n",
    "np.power(arr1,arr2)"
   ]
  },
  {
   "cell_type": "code",
   "execution_count": 111,
   "metadata": {},
   "outputs": [
    {
     "data": {
      "text/plain": [
       "False"
      ]
     },
     "execution_count": 111,
     "metadata": {},
     "output_type": "execute_result"
    }
   ],
   "source": [
    "# Returns True if the arrays have the same elements\n",
    "np.array_equal(arr1,arr2)"
   ]
  },
  {
   "cell_type": "code",
   "execution_count": 112,
   "metadata": {},
   "outputs": [
    {
     "data": {
      "text/plain": [
       "array([[ 0.        ,  1.        ,  1.41421356],\n",
       "       [ 7.74596669,  7.74596669,  7.74596669],\n",
       "       [ 2.64575131,  2.82842712,  3.        ]])"
      ]
     },
     "execution_count": 112,
     "metadata": {},
     "output_type": "execute_result"
    }
   ],
   "source": [
    "# Square root of each element in the array\n",
    "np.sqrt(arr)"
   ]
  },
  {
   "cell_type": "code",
   "execution_count": 113,
   "metadata": {},
   "outputs": [
    {
     "data": {
      "text/plain": [
       "array([[ 0.        ,  0.84147098,  0.90929743],\n",
       "       [-0.30481062, -0.30481062, -0.30481062],\n",
       "       [ 0.6569866 ,  0.98935825,  0.41211849]])"
      ]
     },
     "execution_count": 113,
     "metadata": {},
     "output_type": "execute_result"
    }
   ],
   "source": [
    "# Sine of each element in the array\n",
    "np.sin(arr)"
   ]
  },
  {
   "cell_type": "code",
   "execution_count": 115,
   "metadata": {},
   "outputs": [
    {
     "data": {
      "text/plain": [
       "array([[ 1.09861229,  1.38629436],\n",
       "       [ 1.60943791,  1.79175947]])"
      ]
     },
     "execution_count": 115,
     "metadata": {},
     "output_type": "execute_result"
    }
   ],
   "source": [
    "# Natural log of each element in the array\n",
    "np.log(arr1)"
   ]
  },
  {
   "cell_type": "code",
   "execution_count": 116,
   "metadata": {},
   "outputs": [
    {
     "data": {
      "text/plain": [
       "array([[ 0,  1,  2],\n",
       "       [60, 60, 60],\n",
       "       [ 7,  8,  9]])"
      ]
     },
     "execution_count": 116,
     "metadata": {},
     "output_type": "execute_result"
    }
   ],
   "source": [
    "# Absolute value of each element in the array\n",
    "np.abs(arr)"
   ]
  },
  {
   "cell_type": "code",
   "execution_count": 117,
   "metadata": {},
   "outputs": [
    {
     "data": {
      "text/plain": [
       "array([[  0.,   1.,   2.],\n",
       "       [ 60.,  60.,  60.],\n",
       "       [  7.,   8.,   9.]])"
      ]
     },
     "execution_count": 117,
     "metadata": {},
     "output_type": "execute_result"
    }
   ],
   "source": [
    "# Rounds up to the nearest int\n",
    "np.ceil(arr)"
   ]
  },
  {
   "cell_type": "code",
   "execution_count": 118,
   "metadata": {},
   "outputs": [
    {
     "data": {
      "text/plain": [
       "array([[  0.,   1.,   2.],\n",
       "       [ 60.,  60.,  60.],\n",
       "       [  7.,   8.,   9.]])"
      ]
     },
     "execution_count": 118,
     "metadata": {},
     "output_type": "execute_result"
    }
   ],
   "source": [
    "#  Rounds down to the nearest int\n",
    "np.floor(arr)"
   ]
  },
  {
   "cell_type": "code",
   "execution_count": 119,
   "metadata": {},
   "outputs": [
    {
     "data": {
      "text/plain": [
       "array([[ 0,  1,  2],\n",
       "       [60, 60, 60],\n",
       "       [ 7,  8,  9]])"
      ]
     },
     "execution_count": 119,
     "metadata": {},
     "output_type": "execute_result"
    }
   ],
   "source": [
    "# Rounds to the nearest int\n",
    "np.round(arr)"
   ]
  },
  {
   "cell_type": "markdown",
   "metadata": {},
   "source": [
    "# Scalar Math"
   ]
  },
  {
   "cell_type": "code",
   "execution_count": 120,
   "metadata": {},
   "outputs": [
    {
     "data": {
      "text/plain": [
       "array([[ 1,  2,  3],\n",
       "       [61, 61, 61],\n",
       "       [ 8,  9, 10]])"
      ]
     },
     "execution_count": 120,
     "metadata": {},
     "output_type": "execute_result"
    }
   ],
   "source": [
    "# Add 1 to each array element\n",
    "np.add(arr,1)"
   ]
  },
  {
   "cell_type": "code",
   "execution_count": 121,
   "metadata": {},
   "outputs": [
    {
     "data": {
      "text/plain": [
       "array([[-2, -1,  0],\n",
       "       [58, 58, 58],\n",
       "       [ 5,  6,  7]])"
      ]
     },
     "execution_count": 121,
     "metadata": {},
     "output_type": "execute_result"
    }
   ],
   "source": [
    "# Subtract 2 from each array element\n",
    "np.subtract(arr,2)"
   ]
  },
  {
   "cell_type": "code",
   "execution_count": 122,
   "metadata": {},
   "outputs": [
    {
     "data": {
      "text/plain": [
       "array([[  0,   3,   6],\n",
       "       [180, 180, 180],\n",
       "       [ 21,  24,  27]])"
      ]
     },
     "execution_count": 122,
     "metadata": {},
     "output_type": "execute_result"
    }
   ],
   "source": [
    "# Multiply each array element by 3\n",
    "np.multiply(arr,3)"
   ]
  },
  {
   "cell_type": "code",
   "execution_count": 123,
   "metadata": {},
   "outputs": [
    {
     "data": {
      "text/plain": [
       "array([[  0.  ,   0.25,   0.5 ],\n",
       "       [ 15.  ,  15.  ,  15.  ],\n",
       "       [  1.75,   2.  ,   2.25]])"
      ]
     },
     "execution_count": 123,
     "metadata": {},
     "output_type": "execute_result"
    }
   ],
   "source": [
    "# Divide each array element by 4 (returns np.nan for division by zero)\n",
    "np.divide(arr,4)"
   ]
  },
  {
   "cell_type": "code",
   "execution_count": 124,
   "metadata": {},
   "outputs": [
    {
     "data": {
      "text/plain": [
       "array([[        0,         1,        32],\n",
       "       [777600000, 777600000, 777600000],\n",
       "       [    16807,     32768,     59049]], dtype=int32)"
      ]
     },
     "execution_count": 124,
     "metadata": {},
     "output_type": "execute_result"
    }
   ],
   "source": [
    "# Raise each array element to the 5th power\n",
    "np.power(arr,5)"
   ]
  },
  {
   "cell_type": "code",
   "execution_count": null,
   "metadata": {
    "collapsed": true
   },
   "outputs": [],
   "source": []
  }
 ],
 "metadata": {
  "kernelspec": {
   "display_name": "Python 3",
   "language": "python",
   "name": "python3"
  },
  "language_info": {
   "codemirror_mode": {
    "name": "ipython",
    "version": 3
   },
   "file_extension": ".py",
   "mimetype": "text/x-python",
   "name": "python",
   "nbconvert_exporter": "python",
   "pygments_lexer": "ipython3",
   "version": "3.6.1"
  }
 },
 "nbformat": 4,
 "nbformat_minor": 2
}
